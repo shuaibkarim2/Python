{
 "cells": [
  {
   "cell_type": "code",
   "execution_count": null,
   "id": "a3965741",
   "metadata": {},
   "outputs": [],
   "source": [
    "import cv2\n",
    "\n",
    "def play_video(video_path):\n",
    "    cap = cv2.VideoCapture(video_path)\n",
    "\n",
    "    if not cap.isOpened():\n",
    "        print(\"Error: Unable to open the video.\")\n",
    "        return\n",
    "\n",
    "    while cap.isOpened():\n",
    "        ret, frame = cap.read()\n",
    "\n",
    "        if not ret:\n",
    "            break\n",
    "\n",
    "        cv2.imshow(\"Video Player\", frame)\n",
    "\n",
    "        # Exit on 'q' key press\n",
    "        if cv2.waitKey(25) & 0xFF == ord(\"q\"):\n",
    "            break\n",
    "\n",
    "    cap.release()\n",
    "    cv2.destroyAllWindows()\n",
    "\n",
    "if __name__ == \"__main__\":\n",
    "    video_path = \"path_to_your_video.mp4\"  # Replace with your video file path\n",
    "    play_video(video_path)\n",
    "\n",
    "\n",
    "Replace `\"path_to_your_video.mp4\"` with the actual path to your video file. The script will display the video in a window titled \"Video Player\" and play it. Press the 'q' key to exit the video window.\n",
    "\n",
    "In the `play_video()` function:\n",
    "\n",
    "1. The `VideoCapture` object (`cap`) is created to open the video specified by `video_path`.\n",
    "\n",
    "2. The video is played in a loop using the `cap.read()` method, which reads the next frame from the video.\n",
    "\n",
    "3. The frames are displayed in a window using `cv2.imshow()`.\n",
    "\n",
    "4. The loop continues until there are no more frames to read, or the user interrupts it by pressing the 'q' key.\n",
    "\n",
    "5. After the video playback is complete, the video capture is released, and all OpenCV windows are closed using `cap.release()` and `cv2.destroyAllWindows()`.\n",
    "\n",
    "Run the script, and it will open and play the specified video in a new window."
   ]
  }
 ],
 "metadata": {
  "kernelspec": {
   "display_name": "Python 3 (ipykernel)",
   "language": "python",
   "name": "python3"
  },
  "language_info": {
   "codemirror_mode": {
    "name": "ipython",
    "version": 3
   },
   "file_extension": ".py",
   "mimetype": "text/x-python",
   "name": "python",
   "nbconvert_exporter": "python",
   "pygments_lexer": "ipython3",
   "version": "3.10.9"
  }
 },
 "nbformat": 4,
 "nbformat_minor": 5
}
